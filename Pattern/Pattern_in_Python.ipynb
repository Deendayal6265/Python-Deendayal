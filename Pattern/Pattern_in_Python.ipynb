{
  "nbformat": 4,
  "nbformat_minor": 0,
  "metadata": {
    "colab": {
      "name": "Pattern in Python.ipynb",
      "provenance": [],
      "collapsed_sections": [],
      "authorship_tag": "ABX9TyNcXaw6IgPd4iAuk2yV9ObN",
      "include_colab_link": true
    },
    "kernelspec": {
      "name": "python3",
      "display_name": "Python 3"
    },
    "language_info": {
      "name": "python"
    }
  },
  "cells": [
    {
      "cell_type": "markdown",
      "metadata": {
        "id": "view-in-github",
        "colab_type": "text"
      },
      "source": [
        "<a href=\"https://colab.research.google.com/github/Deendayal6265/Python-Deendayal/blob/main/Pattern/Pattern_in_Python.ipynb\" target=\"_parent\"><img src=\"https://colab.research.google.com/assets/colab-badge.svg\" alt=\"Open In Colab\"/></a>"
      ]
    },
    {
      "cell_type": "markdown",
      "source": [
        "#****\n",
        "#****\n",
        "#****\n",
        "#**** \n",
        "\n",
        "\n"
      ],
      "metadata": {
        "id": "c5T8zBmYWM9F"
      }
    },
    {
      "cell_type": "code",
      "source": [
        "#from the while loop . \n",
        "n = int(input(\"Enter the size : \"))\n",
        "i=1\n",
        "while i<=n:\n",
        "  j=1\n",
        "  while j<=n:\n",
        "    print(\" * \",end=\"\")\n",
        "    j=j+1\n",
        "  print()\n",
        "  i=i+1"
      ],
      "metadata": {
        "colab": {
          "base_uri": "https://localhost:8080/"
        },
        "id": "LnXyZSTKW48m",
        "outputId": "588d935e-4f01-4db6-e22d-fad80b95811f"
      },
      "execution_count": null,
      "outputs": [
        {
          "output_type": "stream",
          "name": "stdout",
          "text": [
            "Enter the size : 4\n",
            " *  *  *  * \n",
            " *  *  *  * \n",
            " *  *  *  * \n",
            " *  *  *  * \n"
          ]
        }
      ]
    },
    {
      "cell_type": "code",
      "source": [
        "# from for loop \n",
        "n  = int(input(\"enter the size of n \"))\n",
        "for i in range(n):\n",
        "  for j in range(n):\n",
        "    print(' & ',end=\"\")\n",
        "  print()\n"
      ],
      "metadata": {
        "colab": {
          "base_uri": "https://localhost:8080/"
        },
        "id": "4brywxZ7W7GF",
        "outputId": "c59d10e7-b68e-4e2a-f346-3f4b6e3ef493"
      },
      "execution_count": null,
      "outputs": [
        {
          "output_type": "stream",
          "name": "stdout",
          "text": [
            "enter the size of n 4\n",
            " &  &  &  & \n",
            " &  &  &  & \n",
            " &  &  &  & \n",
            " &  &  &  & \n"
          ]
        }
      ]
    },
    {
      "cell_type": "markdown",
      "source": [
        "#1111\n",
        "#2222\n",
        "#3333\n",
        "#4444"
      ],
      "metadata": {
        "id": "Vb0Mkl1yZxkx"
      }
    },
    {
      "cell_type": "code",
      "source": [
        "n=int(input(\"Enter the size:\"))\n",
        "\n",
        "for i in range(1,n+1):\n",
        "  for j in range(1,n+1):\n",
        "    print(i,end=\" \")\n",
        "\n",
        "  print()\n"
      ],
      "metadata": {
        "colab": {
          "base_uri": "https://localhost:8080/"
        },
        "id": "_27gdkRVZ4GL",
        "outputId": "bff5bc3d-f2e9-4d75-893d-0e07a70bf9e4"
      },
      "execution_count": null,
      "outputs": [
        {
          "output_type": "stream",
          "name": "stdout",
          "text": [
            "Enter the size:4\n",
            "1 1 1 1 \n",
            "2 2 2 2 \n",
            "3 3 3 3 \n",
            "4 4 4 4 \n"
          ]
        }
      ]
    },
    {
      "cell_type": "markdown",
      "source": [
        "#1234\n",
        "#1234\n",
        "#1234\n",
        "#1234\n"
      ],
      "metadata": {
        "id": "-gMbmnS9bPlX"
      }
    },
    {
      "cell_type": "code",
      "source": [
        "n=int(input(\"Enter the size:\"))\n",
        "\n",
        "for i in range(1,n+1):\n",
        "  for j in range(1,n+1):\n",
        "    print(j,end=\" \")\n",
        "\n",
        "  print()\n"
      ],
      "metadata": {
        "colab": {
          "base_uri": "https://localhost:8080/"
        },
        "id": "cEM8Nz-8bVTv",
        "outputId": "c3024a13-fe9f-4044-c193-4daaf0726f26"
      },
      "execution_count": null,
      "outputs": [
        {
          "output_type": "stream",
          "name": "stdout",
          "text": [
            "Enter the size:5\n",
            "1 2 3 4 5 \n",
            "1 2 3 4 5 \n",
            "1 2 3 4 5 \n",
            "1 2 3 4 5 \n",
            "1 2 3 4 5 \n"
          ]
        }
      ]
    },
    {
      "cell_type": "markdown",
      "source": [
        "#4321\n",
        "#4321\n",
        "#4321\n",
        "#4321"
      ],
      "metadata": {
        "id": "ZFWzrmrqbxlL"
      }
    },
    {
      "cell_type": "code",
      "source": [
        "n=int(input(\"Enter the size:\"))\n",
        "\n",
        "for i in range(1,n+1):\n",
        "  for j in range(1,n+1):\n",
        "    print(n-j+1,end=\" \")\n",
        "\n",
        "  print()\n"
      ],
      "metadata": {
        "colab": {
          "base_uri": "https://localhost:8080/"
        },
        "id": "BeovbO7Fb71d",
        "outputId": "d8583937-872e-4310-9aa4-36383691e12b"
      },
      "execution_count": null,
      "outputs": [
        {
          "output_type": "stream",
          "name": "stdout",
          "text": [
            "Enter the size:4\n",
            "4 3 2 1 \n",
            "4 3 2 1 \n",
            "4 3 2 1 \n",
            "4 3 2 1 \n"
          ]
        }
      ]
    },
    {
      "cell_type": "code",
      "source": [
        "n=int(input(\"Enter the size:\"))\n",
        "\n",
        "for i in range(1,n+1):\n",
        "  for j in range(1,n+1):\n",
        "    print(n,end=\" \")\n",
        "\n",
        "  print()\n"
      ],
      "metadata": {
        "colab": {
          "base_uri": "https://localhost:8080/"
        },
        "id": "_gEgidIydzAC",
        "outputId": "445c7934-c4ab-48f2-c0a9-c19a6f193fc0"
      },
      "execution_count": null,
      "outputs": [
        {
          "output_type": "stream",
          "name": "stdout",
          "text": [
            "Enter the size:5\n",
            "5 5 5 5 5 \n",
            "5 5 5 5 5 \n",
            "5 5 5 5 5 \n",
            "5 5 5 5 5 \n",
            "5 5 5 5 5 \n"
          ]
        }
      ]
    },
    {
      "cell_type": "markdown",
      "source": [
        "#1\n",
        "#12\n",
        "#123\n",
        "#1234"
      ],
      "metadata": {
        "id": "2zvdXF6lgisu"
      }
    },
    {
      "cell_type": "code",
      "source": [
        "n = int(input(\"Enter the size: \"))\n",
        "for i in range(1,n+1):\n",
        "  for j in range(1,i+1):\n",
        "    print(j,end=\"\")\n",
        "  print()"
      ],
      "metadata": {
        "colab": {
          "base_uri": "https://localhost:8080/"
        },
        "id": "QjQZG3Vkel_p",
        "outputId": "b05fc9a0-95d4-4a11-feac-577ccef8613f"
      },
      "execution_count": null,
      "outputs": [
        {
          "output_type": "stream",
          "name": "stdout",
          "text": [
            "Enter the size: 4\n",
            "1\n",
            "12\n",
            "123\n",
            "1234\n"
          ]
        }
      ]
    },
    {
      "cell_type": "code",
      "source": [
        ""
      ],
      "metadata": {
        "id": "VVTMa1voiMQz"
      },
      "execution_count": null,
      "outputs": []
    },
    {
      "cell_type": "markdown",
      "source": [
        "#1\n",
        "#23\n",
        "#345\n",
        "#567"
      ],
      "metadata": {
        "id": "UZg1sk6iiUV5"
      }
    },
    {
      "cell_type": "code",
      "source": [
        "n = int(input(\"Enter the size: \"))\n",
        "for i in range(1,n+1):\n",
        "  for j in range(i):\n",
        "    print(i+j,end=\"\")\n",
        "  print()"
      ],
      "metadata": {
        "colab": {
          "base_uri": "https://localhost:8080/"
        },
        "id": "_XrB1F4JecOe",
        "outputId": "cabc0e2b-8db2-458e-ccf8-1ca5095943e8"
      },
      "execution_count": null,
      "outputs": [
        {
          "output_type": "stream",
          "name": "stdout",
          "text": [
            "Enter the size: 4\n",
            "1\n",
            "23\n",
            "345\n",
            "4567\n"
          ]
        }
      ]
    },
    {
      "cell_type": "code",
      "source": [
        "n = int(input(\"Enter the size: \"))\n",
        "p=0\n",
        "for i in range(1,n+1):\n",
        "  for j in range(i):\n",
        "    p=p+1\n",
        "    print(p,end=\" \")\n",
        "  print()"
      ],
      "metadata": {
        "colab": {
          "base_uri": "https://localhost:8080/"
        },
        "id": "rsG-4kREijDQ",
        "outputId": "0df10dd3-fd65-4f6f-a336-7c7470c515d8"
      },
      "execution_count": null,
      "outputs": [
        {
          "output_type": "stream",
          "name": "stdout",
          "text": [
            "Enter the size: 4\n",
            "1 \n",
            "2 3 \n",
            "4 5 6 \n",
            "7 8 9 10 \n"
          ]
        }
      ]
    },
    {
      "cell_type": "code",
      "source": [
        "n= int(input(\"Enter a number: \"))\n",
        "for i in range(n):\n",
        "  for j in range(i+1):\n",
        "    print('*',end=\"\")\n",
        "\n",
        "  print()"
      ],
      "metadata": {
        "colab": {
          "base_uri": "https://localhost:8080/"
        },
        "id": "ovqpKScOls6k",
        "outputId": "5fef8208-292d-44c7-e1ca-88e48c10da6c"
      },
      "execution_count": null,
      "outputs": [
        {
          "output_type": "stream",
          "name": "stdout",
          "text": [
            "Enter a number: 4\n",
            "*\n",
            "**\n",
            "***\n",
            "****\n"
          ]
        }
      ]
    },
    {
      "cell_type": "code",
      "source": [
        "n= int(input(\"Enter a number: \"))\n",
        "for i in range(1,n+1):\n",
        "  for j in range(i):\n",
        "    print(i,end=\"\")\n",
        "\n",
        "  print()"
      ],
      "metadata": {
        "colab": {
          "base_uri": "https://localhost:8080/"
        },
        "id": "ZHtDuYkznVgh",
        "outputId": "94d1ff51-cc6e-4c75-d292-1e0f0b57bf5b"
      },
      "execution_count": null,
      "outputs": [
        {
          "output_type": "stream",
          "name": "stdout",
          "text": [
            "Enter a number: 4\n",
            "1\n",
            "22\n",
            "333\n",
            "4444\n"
          ]
        }
      ]
    },
    {
      "cell_type": "markdown",
      "source": [
        ""
      ],
      "metadata": {
        "id": "B4yIjolPH-ET"
      }
    },
    {
      "cell_type": "code",
      "source": [
        "k = int(input(\"Enter the number\"))\n",
        "x= ord('A')\n",
        "ascii = x+k-1\n",
        "char_ascii = chr(ascii)\n",
        "print(char_ascii)\n"
      ],
      "metadata": {
        "colab": {
          "base_uri": "https://localhost:8080/"
        },
        "id": "hnIUlSZlLhlB",
        "outputId": "73f9faf0-4663-4312-d5ca-0b60cc77d0b8"
      },
      "execution_count": null,
      "outputs": [
        {
          "output_type": "stream",
          "name": "stdout",
          "text": [
            "Enter the number3\n",
            "C\n"
          ]
        }
      ]
    },
    {
      "cell_type": "markdown",
      "source": [
        "# ABCD\n",
        "#ABCD\n",
        "#ABCD\n",
        "#ABCD"
      ],
      "metadata": {
        "id": "ANpCw2kMTr5I"
      }
    },
    {
      "cell_type": "code",
      "source": [
        "k = int(input(\"Enter the number \"))\n",
        "for i in range(k):\n",
        "  for j in range(k):\n",
        "    num = chr(ord('A')+j) # main logic\n",
        "    print(num,end=\"\")\n",
        "  print()"
      ],
      "metadata": {
        "colab": {
          "base_uri": "https://localhost:8080/"
        },
        "id": "accoeKO8Sb9C",
        "outputId": "57135801-47ae-43e2-d594-881d5f4aa412"
      },
      "execution_count": null,
      "outputs": [
        {
          "output_type": "stream",
          "name": "stdout",
          "text": [
            "Enter the number 4\n",
            "ABCD\n",
            "ABCD\n",
            "ABCD\n",
            "ABCD\n"
          ]
        }
      ]
    },
    {
      "cell_type": "markdown",
      "source": [
        "#ABCD\n",
        "#BCDE\n",
        "#CDEF\n",
        "#DEFG"
      ],
      "metadata": {
        "id": "bR-_7HfCVJj3"
      }
    },
    {
      "cell_type": "code",
      "source": [
        "k = int(input(\"Enter the number \"))\n",
        "for i in range(k):\n",
        "  for j in range(k):\n",
        "    num = chr(ord('A')+j+i) # main logic\n",
        "    print(num,end=\"\")\n",
        "  print()"
      ],
      "metadata": {
        "colab": {
          "base_uri": "https://localhost:8080/"
        },
        "id": "2GV1JSQFSVs7",
        "outputId": "bf2c1e12-cd4c-4537-be70-c4068008ed85"
      },
      "execution_count": null,
      "outputs": [
        {
          "output_type": "stream",
          "name": "stdout",
          "text": [
            "Enter the number 4\n",
            "ABCD\n",
            "BCDE\n",
            "CDEF\n",
            "DEFG\n"
          ]
        }
      ]
    },
    {
      "cell_type": "code",
      "source": [
        "k = int(input(\"Enter the number \"))\n",
        "for i in range(k):\n",
        "  for j in range(i+1):\n",
        "    num = chr(ord('A')+i) # main logic\n",
        "    print(num,end=\"\")\n",
        "  print()"
      ],
      "metadata": {
        "colab": {
          "base_uri": "https://localhost:8080/"
        },
        "id": "4glIzWkSVqg0",
        "outputId": "85540f59-22f5-431d-a6f3-235406880742"
      },
      "execution_count": null,
      "outputs": [
        {
          "output_type": "stream",
          "name": "stdout",
          "text": [
            "Enter the number 5\n",
            "A\n",
            "BB\n",
            "CCC\n",
            "DDDD\n",
            "EEEEE\n"
          ]
        }
      ]
    },
    {
      "cell_type": "code",
      "source": [
        "# invert alphabets\n",
        "k = int(input(\"Enter the number \"))\n",
        "z=k+ord(\"A\")-1\n",
        "for i in range(k):\n",
        "  for j in range(i+1):\n",
        "    num = chr(z-i+j) # main logic\n",
        "    print(num,end=\"\")\n",
        "  print()\n"
      ],
      "metadata": {
        "colab": {
          "base_uri": "https://localhost:8080/"
        },
        "id": "6NHipRe1W8Rf",
        "outputId": "759923f0-c501-4c03-ea19-150476133245"
      },
      "execution_count": null,
      "outputs": [
        {
          "output_type": "stream",
          "name": "stdout",
          "text": [
            "Enter the number 8\n",
            "H\n",
            "GH\n",
            "FGH\n",
            "EFGH\n",
            "DEFGH\n",
            "CDEFGH\n",
            "BCDEFGH\n",
            "ABCDEFGH\n"
          ]
        }
      ]
    },
    {
      "cell_type": "code",
      "source": [
        "k = int(input(\"Enter the number \"))\n",
        "for i in range(k):\n",
        "  for j in range(i+1):\n",
        "    num = chr(ord('A')+i+j) # main logic\n",
        "    print(num,end=\"\")\n",
        "  print()"
      ],
      "metadata": {
        "id": "7ovJ2JxZXtmh"
      },
      "execution_count": null,
      "outputs": []
    },
    {
      "cell_type": "code",
      "source": [
        "k = (input(\"Entere the character\"))\n",
        "z=ord(k)\n",
        "ascii = z-64\n",
        "num_ascii = (ascii)\n",
        "print(num_ascii)"
      ],
      "metadata": {
        "colab": {
          "base_uri": "https://localhost:8080/"
        },
        "id": "AoLlp4dtMHFb",
        "outputId": "b156bc6c-1e5a-4282-8d8b-1b1f34fd760d"
      },
      "execution_count": null,
      "outputs": [
        {
          "output_type": "stream",
          "name": "stdout",
          "text": [
            "Entere the character5\n",
            "-11\n"
          ]
        }
      ]
    },
    {
      "cell_type": "code",
      "source": [
        ""
      ],
      "metadata": {
        "id": "-ECVLUJoQ1pF"
      },
      "execution_count": null,
      "outputs": []
    },
    {
      "cell_type": "code",
      "source": [
        "print(ord('A'))\n",
        "print(chr(66))"
      ],
      "metadata": {
        "colab": {
          "base_uri": "https://localhost:8080/"
        },
        "id": "KMfUXephKpN3",
        "outputId": "87c78559-d4a8-4129-ebf6-bd675c42f669"
      },
      "execution_count": null,
      "outputs": [
        {
          "output_type": "stream",
          "name": "stdout",
          "text": [
            "65\n",
            "B\n"
          ]
        }
      ]
    },
    {
      "cell_type": "code",
      "source": [
        "\n",
        "# from for loop \n",
        "n  = int(input(\"enter the size of n \"))\n",
        "for i in range(n):\n",
        "  for j in range(n-i):\n",
        "    print(' * ',end=\"\")\n",
        "  print()\n"
      ],
      "metadata": {
        "colab": {
          "base_uri": "https://localhost:8080/"
        },
        "id": "_P66qecjfUb6",
        "outputId": "7b7c11bd-e3d1-4798-857f-278ffa4ac4fb"
      },
      "execution_count": null,
      "outputs": [
        {
          "output_type": "stream",
          "name": "stdout",
          "text": [
            "enter the size of n 4\n",
            " *  *  *  * \n",
            " *  *  * \n",
            " *  * \n",
            " * \n"
          ]
        }
      ]
    },
    {
      "cell_type": "code",
      "source": [
        "# from for loop \n",
        "n  = int(input(\"enter the size of n \"))\n",
        "for i in range(n):\n",
        "  for j in range(n-i):\n",
        "    print(n-i,end=\"\")\n",
        "  print()\n"
      ],
      "metadata": {
        "colab": {
          "base_uri": "https://localhost:8080/"
        },
        "id": "hsgVZnsHgTrb",
        "outputId": "3eac8db8-4265-4ded-ab89-6988ded2d55d"
      },
      "execution_count": null,
      "outputs": [
        {
          "output_type": "stream",
          "name": "stdout",
          "text": [
            "enter the size of n 5\n",
            "55555\n",
            "4444\n",
            "333\n",
            "22\n",
            "1\n"
          ]
        }
      ]
    },
    {
      "cell_type": "code",
      "source": [
        "n = int(input(\"Enter the size: \"))\n",
        "for i in range(n):\n",
        "  for j in range(n-i):\n",
        "    print(' ',end=\"\")\n",
        "  for l in range(i):\n",
        "    print('*',end=\"\")\n",
        "  print()"
      ],
      "metadata": {
        "colab": {
          "base_uri": "https://localhost:8080/"
        },
        "id": "SHr7b61miOLD",
        "outputId": "e5a5f29d-3056-4900-a384-c79d49c63e07"
      },
      "execution_count": null,
      "outputs": [
        {
          "output_type": "stream",
          "name": "stdout",
          "text": [
            "Enter the size: 5\n",
            "     \n",
            "    *\n",
            "   **\n",
            "  ***\n",
            " ****\n"
          ]
        }
      ]
    },
    {
      "cell_type": "code",
      "source": [
        "n = int(input(\"Enter the size: \"))\n",
        "for i in range(n):\n",
        "  for j in range(n-i):\n",
        "    print(' ',end=\"\")\n",
        "  for l in range(1,i+2):\n",
        "    print(l,end=\"\")\n",
        "  print()"
      ],
      "metadata": {
        "colab": {
          "base_uri": "https://localhost:8080/"
        },
        "id": "ky3yBc5wpJ1N",
        "outputId": "d845534f-cf20-4de6-b0ab-d0e69bb5d96c"
      },
      "execution_count": null,
      "outputs": [
        {
          "output_type": "stream",
          "name": "stdout",
          "text": [
            "Enter the size: 5\n",
            "     1\n",
            "    12\n",
            "   123\n",
            "  1234\n",
            " 12345\n"
          ]
        }
      ]
    },
    {
      "cell_type": "code",
      "source": [
        "n = int(input(\"Enter the size: \"))\n",
        "for i in range(n):\n",
        "  for j in range(n-i):\n",
        "    print(' ',end=\"\")\n",
        "  for l in range(1,i+2):\n",
        "    print(l,end=\"\")\n",
        "  for k in range(1,i+1):\n",
        "    print(l-k,end=\"\")\n",
        "  print()"
      ],
      "metadata": {
        "colab": {
          "base_uri": "https://localhost:8080/"
        },
        "id": "POlVg2dJxfLm",
        "outputId": "ab8ac20e-69c8-4cdd-92c7-f201b30a2f57"
      },
      "execution_count": null,
      "outputs": [
        {
          "output_type": "stream",
          "name": "stdout",
          "text": [
            "Enter the size: 5\n",
            "     1\n",
            "    121\n",
            "   12321\n",
            "  1234321\n",
            " 123454321\n"
          ]
        }
      ]
    },
    {
      "cell_type": "code",
      "source": [
        "n = int(input(\"Enter the size: \"))\n",
        "for i in range(n):\n",
        "  for j in range(n-i):\n",
        "    print(' ',end=\"\")\n",
        "  for l in range(1,i+2):\n",
        "    print('*',end=\"\")\n",
        "  for k in range(1,i+1):\n",
        "    print(\"*\",end=\"\")\n",
        "    \n",
        "  print()"
      ],
      "metadata": {
        "id": "CDl5cwYS0Cqv",
        "colab": {
          "base_uri": "https://localhost:8080/"
        },
        "outputId": "9d00157a-5880-4af8-ba4b-dfa69e2ea796"
      },
      "execution_count": null,
      "outputs": [
        {
          "output_type": "stream",
          "name": "stdout",
          "text": [
            "Enter the size: 5\n",
            "     *\n",
            "    ***\n",
            "   *****\n",
            "  *******\n",
            " *********\n"
          ]
        }
      ]
    },
    {
      "cell_type": "code",
      "source": [
        "n = int(input(\"Enter the size: \"))\n",
        "for i in range(n):\n",
        "  for j in range(n-i):\n",
        "    print(' ',end=\"\")\n",
        "  for l in range(1,i+2):\n",
        "    print(l+i,end=\"\")\n",
        "  for k in range(1,i+1):\n",
        "    print((l-k)+i,end=\"\")\n",
        "  print()"
      ],
      "metadata": {
        "colab": {
          "base_uri": "https://localhost:8080/"
        },
        "id": "BepBrK78-zK-",
        "outputId": "9d67db76-757b-40b9-b837-d05e146d76b3"
      },
      "execution_count": null,
      "outputs": [
        {
          "output_type": "stream",
          "name": "stdout",
          "text": [
            "Enter the size: 5\n",
            "     1\n",
            "    232\n",
            "   34543\n",
            "  4567654\n",
            " 567898765\n"
          ]
        }
      ]
    }
  ]
}