{
  "nbformat": 4,
  "nbformat_minor": 0,
  "metadata": {
    "colab": {
      "name": "Chess Board .ipynb",
      "provenance": [],
      "authorship_tag": "ABX9TyPfXvuQQaL7pZqPKnRRNR8D",
      "include_colab_link": true
    },
    "kernelspec": {
      "name": "python3",
      "display_name": "Python 3"
    },
    "language_info": {
      "name": "python"
    }
  },
  "cells": [
    {
      "cell_type": "markdown",
      "metadata": {
        "id": "view-in-github",
        "colab_type": "text"
      },
      "source": [
        "<a href=\"https://colab.research.google.com/github/Deendayal6265/Python-Deendayal/blob/main/Chess%20Board%20/Chess_Board_.ipynb\" target=\"_parent\"><img src=\"https://colab.research.google.com/assets/colab-badge.svg\" alt=\"Open In Colab\"/></a>"
      ]
    },
    {
      "cell_type": "code",
      "execution_count": null,
      "metadata": {
        "colab": {
          "base_uri": "https://localhost:8080/",
          "height": 261
        },
        "id": "KM4MJA6HTBWx",
        "outputId": "9b9cc062-3a5c-42dc-d3b5-247f3d6a5144"
      },
      "outputs": [
        {
          "output_type": "display_data",
          "data": {
            "image/png": "[encoded data removed]",
            "text/plain": [
              "<Figure size 288x288 with 1 Axes>"
            ]
          },
          "metadata": {}
        }
      ],
      "source": [
        "import matplotlib.pyplot as plt\n",
        "import numpy as np\n",
        "from matplotlib.colors import ListedColormap\n",
        "\n",
        "board = np.tile([1,0],(8,4))\n",
        "\n",
        "for i in range(board.shape[0]):\n",
        "  board[i]=np.roll(board[i],i%2)\n",
        "\n",
        "cmap = ListedColormap(['#779556','#ebecd0'])\n",
        "\n",
        "plt.matshow(board, cmap=cmap, )\n",
        "plt.xticks([])\n",
        "plt.yticks([])\n",
        "plt.show()\n"
      ]
    }
  ]
}